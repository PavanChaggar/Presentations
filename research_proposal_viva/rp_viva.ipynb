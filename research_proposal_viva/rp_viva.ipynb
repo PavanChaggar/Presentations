{
 "cells": [
  {
   "cell_type": "markdown",
   "metadata": {
    "slideshow": {
     "slide_type": "slide"
    }
   },
   "source": [
    "<script>\n",
    "    function findAncestor (el, name) {\n",
    "        while ((el = el.parentElement) && el.nodeName.toLowerCase() !== name);\n",
    "        return el;\n",
    "    }\n",
    "    function colorAll(el, textColor) {\n",
    "        el.style.color = textColor;\n",
    "        Array.from(el.children).forEach((e) => {colorAll(e, textColor);});\n",
    "    }\n",
    "    function setBackgroundImage(src, textColor) {\n",
    "        var section = findAncestor(document.currentScript, \"section\");\n",
    "        if (section) {\n",
    "            section.setAttribute(\"data-background-image\", src);\n",
    "\t\t\tif (textColor) colorAll(section, textColor);\n",
    "        }\n",
    "    }\n",
    "</script>\n",
    "\n",
    "<script>\n",
    "    setBackgroundImage(\"/Users/pavanchaggar/Documents/ResearchDocs/Presentations/background_imgs/title-slide-background_cropped.png\");\n",
    "</script>\n",
    "\n",
    "<h1 style=\"color:White;\">Research Proposal</h1>\n",
    "<h2 style=\"color:White;\" >Pavan Chaggar</h2>\n",
    "<h3 style=\"color:White;\" >\n",
    "                          DPhil Student <br>\n",
    "                          Mathematical Institute <br>\n",
    "                          University of Oxford</h3>"
   ]
  },
  {
   "cell_type": "markdown",
   "metadata": {
    "slideshow": {
     "slide_type": "slide"
    }
   },
   "source": [
    "<script>\n",
    "    setBackgroundImage(\"/Users/pavanchaggar/Documents/ResearchDocs/Presentations/background_imgs/ox-math-background_cropped.png\");\n",
    "</script>\n",
    "\n",
    "# Outline \n",
    "\n",
    "* Background\n",
    "* Summarising Rotation Work \n",
    "* Intended Future Work"
   ]
  },
  {
   "cell_type": "markdown",
   "metadata": {
    "slideshow": {
     "slide_type": "slide"
    }
   },
   "source": [
    "# Background\n",
    "\n"
   ]
  },
  {
   "cell_type": "markdown",
   "metadata": {
    "slideshow": {
     "slide_type": "fragment"
    }
   },
   "source": [
    "Alzheimer's Disease (AD) is a neurological disorder characterised by progressove structural brain damage and cognitive decline. Toxic forms of two proteins are thought to underly the progression of AD: Amyloid-$\\beta$ and $\\tau$-protein. "
   ]
  },
  {
   "cell_type": "markdown",
   "metadata": {
    "slideshow": {
     "slide_type": "fragment"
    }
   },
   "source": [
    "Early observations [1] suggest these proteins exhibit prion-like properties, namely their ability to induce misfolding in their surrounding counterparts. This property begets the ability of toxic A$\\beta$ and $\\tau$P to propogate through the brain. "
   ]
  },
  {
   "cell_type": "markdown",
   "metadata": {
    "slideshow": {
     "slide_type": "fragment"
    }
   },
   "source": [
    "These toxic prion-like proteins have been shown to have a characteristic spread through the brain. $\\tau$P, in particular, is correlated with progression of atrophy in the brain."
   ]
  },
  {
   "cell_type": "markdown",
   "metadata": {
    "slideshow": {
     "slide_type": "fragment"
    }
   },
   "source": [
    "These predictable properties show potential to be used as a clinilcal biomarker for the progression of AD. \n",
    "\n",
    "<script>\n",
    "    <footer>\n",
    "            <p> this is a footer </p>\n",
    "    </footer>\n",
    "</script>"
   ]
  },
  {
   "cell_type": "markdown",
   "metadata": {
    "slideshow": {
     "slide_type": "subslide"
    }
   },
   "source": [
    "<img align=\"top\" width=\"700\" height=\"400\" src=\"juckerwalker_staging.png\">"
   ]
  },
  {
   "cell_type": "markdown",
   "metadata": {
    "slideshow": {
     "slide_type": "subslide"
    }
   },
   "source": [
    "<img align=\"top\" width=\"700\" height=\"400\" src=\"juckerwalker_tau.png\">\n",
    "<img align=\"top\" width=\"700\" height=\"400\" src=\"matusda_atrophy.png\">"
   ]
  },
  {
   "cell_type": "markdown",
   "metadata": {},
   "source": [
    "# Rotation 1: \n",
    "\n",
    "Increasingly sophisticated mathematical models have captured toxic protein diffusion through the brain. This are typically of two flavours, ODE models or probabilistic models. "
   ]
  },
  {
   "cell_type": "markdown",
   "metadata": {
    "slideshow": {
     "slide_type": "fragment"
    }
   },
   "source": [
    "Some work has provided correlative analyses between protein deposition, atrophy from sMRI [2] and patient PET [3]. However, these models are either simple linear ODE models or probabilstic models that do not provide mechanistic insights."
   ]
  },
  {
   "cell_type": "markdown",
   "metadata": {
    "slideshow": {
     "slide_type": "fragment"
    }
   },
   "source": [
    "Augmented model such as FKPP equation or heterodimer models offer a richer explanation of how dynamics between prion-like proteins _causes_ AD pathology. However, with growing model complexity, rigourous analysis with data becomes more difficult. "
   ]
  },
  {
   "cell_type": "markdown",
   "metadata": {
    "slideshow": {
     "slide_type": "fragment"
    }
   },
   "source": [
    "This is is the central problem that motivates the research programme of this DPhil. "
   ]
  },
  {
   "cell_type": "markdown",
   "metadata": {
    "slideshow": {
     "slide_type": "subslide"
    }
   },
   "source": [
    "### A Brief Mathematical Interlude"
   ]
  },
  {
   "cell_type": "markdown",
   "metadata": {
    "slideshow": {
     "slide_type": "fragment"
    }
   },
   "source": [
    "We focus on (reaction-)diffusion ordinary differential equation models. The simplest of which is the network diffusion equation: \n",
    " \n",
    "$$ \\frac{dp}{dt} = -k\\mathcal{L}p $$"
   ]
  },
  {
   "cell_type": "markdown",
   "metadata": {
    "slideshow": {
     "slide_type": "fragment"
    }
   },
   "source": [
    "This only descibes diffusion on a network. To include some description of prion-like dynamics, we can augment the heat equation with a logsitic growth term: \n",
    "\n",
    "$$ \\frac{dp_{i}}{dt} = -k\\sum_{j=1}^{N}\\mathcal{L}_{ij} p_j + \\alpha p_i(1 - p_i) $$"
   ]
  },
  {
   "cell_type": "markdown",
   "metadata": {
    "slideshow": {
     "slide_type": "fragment"
    }
   },
   "source": [
    "and we can add additional complexity by considering interactions between multiple toxic protein species (e.g. A$\\beta$ and $\\tau$P:\n",
    "\n",
    "\\begin{align}\n",
    "    \\frac{dp_{i}}{dt} & =  -\\rho\\sum\\limits_{j=1}^{N}\\mathcal{L}_{ij}^{\\omega}p_j +  k_0 - k_1 p_i - k_{12}p_i \\hat{p}_i, \\\\\n",
    "    \\frac{d{\\hat{p}}_i}{dt} &= -\\hat{\\rho}\\sum\\limits_{j=1}^{N}\\mathcal{L}_{ij}^{\\omega}\\hat{p}_j - \\hat{k}_1 \\hat{p}_i + k_{12}p_i\\hat{p}_i\n",
    "\\end{align}\n",
    "\n"
   ]
  },
  {
   "cell_type": "code",
   "execution_count": null,
   "metadata": {},
   "outputs": [],
   "source": []
  }
 ],
 "metadata": {
  "celltoolbar": "Slideshow",
  "kernelspec": {
   "display_name": "Python 3",
   "language": "python",
   "name": "python3"
  },
  "language_info": {
   "codemirror_mode": {
    "name": "ipython",
    "version": 3
   },
   "file_extension": ".py",
   "mimetype": "text/x-python",
   "name": "python",
   "nbconvert_exporter": "python",
   "pygments_lexer": "ipython3",
   "version": "3.7.3"
  }
 },
 "nbformat": 4,
 "nbformat_minor": 4
}
