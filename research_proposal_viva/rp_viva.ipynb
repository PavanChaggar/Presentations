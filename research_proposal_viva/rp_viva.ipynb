{
 "cells": [
  {
   "cell_type": "markdown",
   "metadata": {
    "slideshow": {
     "slide_type": "slide"
    }
   },
   "source": [
    "<script>\n",
    "    function findAncestor (el, name) {\n",
    "        while ((el = el.parentElement) && el.nodeName.toLowerCase() !== name);\n",
    "        return el;\n",
    "    }\n",
    "    function colorAll(el, textColor) {\n",
    "        el.style.color = textColor;\n",
    "        Array.from(el.children).forEach((e) => {colorAll(e, textColor);});\n",
    "    }\n",
    "    function setBackgroundImage(src, textColor) {\n",
    "        var section = findAncestor(document.currentScript, \"section\");\n",
    "        if (section) {\n",
    "            section.setAttribute(\"data-background-image\", src);\n",
    "\t\t\tif (textColor) colorAll(section, textColor);\n",
    "        }\n",
    "    }\n",
    "</script>\n",
    "\n",
    "<script>\n",
    "    setBackgroundImage(\"/Users/pavanchaggar/Documents/ResearchDocs/Presentations/background_imgs/title-slide-background_cropped.png\");\n",
    "</script>\n",
    "\n",
    "<h1 style=\"color:White;\">Research Proposal</h1>\n",
    "<h2 style=\"color:White;\" >Pavan Chaggar</h2>\n",
    "<h3 style=\"color:White;\" >\n",
    "                          DPhil Student <br>\n",
    "                          Mathematical Institute <br>\n",
    "                          University of Oxford</h3>"
   ]
  },
  {
   "cell_type": "markdown",
   "metadata": {
    "slideshow": {
     "slide_type": "slide"
    }
   },
   "source": [
    "\n",
    "# Outline \n",
    "\n",
    "* Background\n",
    "* Rotation 1\n",
    "* Rotation 2\n",
    "* Intended Future Work"
   ]
  },
  {
   "cell_type": "markdown",
   "metadata": {
    "slideshow": {
     "slide_type": "slide"
    }
   },
   "source": [
    "# Background\n",
    "\n"
   ]
  },
  {
   "cell_type": "markdown",
   "metadata": {
    "slideshow": {
     "slide_type": "fragment"
    }
   },
   "source": [
    "Alzheimer's Disease (AD) is a neurological disorder characterised by progressove structural brain damage and cognitive decline. Toxic forms of two proteins are thought to underly the progression of AD: Amyloid-$\\beta$ and $\\tau$-protein. "
   ]
  },
  {
   "cell_type": "markdown",
   "metadata": {
    "slideshow": {
     "slide_type": "fragment"
    }
   },
   "source": [
    "Evidence suggest these proteins exhibit prion-like properties, namely their ability to induce misfolding in their surrounding counterparts. This property begets the ability of toxic A$\\beta$ and $\\tau$P to propogate through the brain. "
   ]
  },
  {
   "cell_type": "markdown",
   "metadata": {
    "slideshow": {
     "slide_type": "fragment"
    }
   },
   "source": [
    "Additionally, A$\\beta$ and $\\tau$P have been shown to have a characteristic spread through the brain. $\\tau$P, in particular, is correlated with progression of atrophy in the brain."
   ]
  },
  {
   "cell_type": "markdown",
   "metadata": {
    "slideshow": {
     "slide_type": "fragment"
    }
   },
   "source": [
    "These predictable properties show potential to be used as a clinilcal biomarker for the progression of AD. "
   ]
  },
  {
   "cell_type": "markdown",
   "metadata": {
    "slideshow": {
     "slide_type": "subslide"
    }
   },
   "source": [
    "<img align=\"top\" width=\"700\" height=\"400\" src=\"juckerwalker_staging.png\">\n"
   ]
  },
  {
   "cell_type": "markdown",
   "metadata": {
    "slideshow": {
     "slide_type": "subslide"
    }
   },
   "source": [
    "<img align=\"top\" width=\"700\" height=\"400\" src=\"juckerwalker_tau.png\">\n",
    "<img align=\"top\" width=\"700\" height=\"400\" src=\"matusda_atrophy.png\">"
   ]
  },
  {
   "cell_type": "markdown",
   "metadata": {
    "slideshow": {
     "slide_type": "slide"
    }
   },
   "source": [
    "# Rotation 1\n",
    "\n",
    "Increasingly sophisticated mathematical models have captured toxic protein diffusion through the brain. These are typically of two flavours: ODE models or probabilistic models. "
   ]
  },
  {
   "cell_type": "markdown",
   "metadata": {
    "slideshow": {
     "slide_type": "fragment"
    }
   },
   "source": [
    "Some modelling work has provided correlative analyses between simulated protein spread, atrophy from sMRI [1] and patient PET [2]. However, these models are either simple linear ODE models or probabilstic models that do not provide mechanistic insights."
   ]
  },
  {
   "cell_type": "markdown",
   "metadata": {
    "slideshow": {
     "slide_type": "fragment"
    }
   },
   "source": [
    "Augmented model such as FKPP equation or heterodimer models offer a richer explanation of how dynamics between prion-like proteins _causes_ AD pathology. However, with growing model complexity, rigourous analysis with data becomes more difficult. "
   ]
  },
  {
   "cell_type": "markdown",
   "metadata": {
    "slideshow": {
     "slide_type": "fragment"
    }
   },
   "source": [
    "This is the central problem that motivates the research programme of this DPhil. "
   ]
  },
  {
   "cell_type": "markdown",
   "metadata": {
    "slideshow": {
     "slide_type": "subslide"
    }
   },
   "source": [
    "### A Brief Mathematical Interlude"
   ]
  },
  {
   "cell_type": "markdown",
   "metadata": {
    "slideshow": {
     "slide_type": "fragment"
    }
   },
   "source": [
    "We focus on (reaction-)diffusion ordinary differential equation models. The simplest of which is the network diffusion equation: \n",
    " \n",
    "$$ \\frac{dp}{dt} = -k\\mathcal{L}p $$"
   ]
  },
  {
   "cell_type": "markdown",
   "metadata": {
    "slideshow": {
     "slide_type": "fragment"
    }
   },
   "source": [
    "This only descibes diffusion on a network. To include some description of prion-like dynamics, we can augment the heat equation with a logsitic growth term: \n",
    "\n",
    "$$ \\frac{dp_{i}}{dt} = -k\\sum_{j=1}^{N}\\mathcal{L}_{ij} p_j + \\alpha p_i(1 - p_i) $$"
   ]
  },
  {
   "cell_type": "markdown",
   "metadata": {
    "slideshow": {
     "slide_type": "subslide"
    }
   },
   "source": [
    "and we can add additional complexity by considering interactions between healthy and and toxic proteins.\n",
    "\n",
    "\\begin{align}\n",
    "    \\frac{d\\mathbf{p}_{i}}{dt} & =  -\\rho\\sum\\limits_{j=1}^{N}\\mathcal{L}_{ij}\\mathbf{p}_j +  k_0 - k_1 \\mathbf{p}_i - k_{12}\\mathbf{p}_i \\mathbf{\\hat{p}}_i, \\\\\n",
    "    \\frac{d\\mathbf{\\hat{p}}_i}{dt} &= -\\hat{\\rho}\\sum\\limits_{j=1}^{N}\\mathcal{L}_{ij}\\mathbf{\\hat{p}}_j - \\hat{k}_1 \\mathbf{\\hat{p}}_i + k_{12}\\mathbf{p_i}\\mathbf{\\hat{p}_i}\n",
    "\\end{align}\n"
   ]
  },
  {
   "cell_type": "markdown",
   "metadata": {
    "slideshow": {
     "slide_type": "fragment"
    }
   },
   "source": [
    "and couple with multiple toxic species.\n",
    "\\begin{align}\n",
    "\\frac{d\\mathbf{v}_i}{dt} & =  -\\kappa\\sum\\limits_{j=1}^{N}\\mathcal{L}_{ij}\\mathbf{v}_j +  b_0 - b_1 \\mathbf{v}_i - b_{12}v_i \\mathbf{\\hat{v}}_i -b_3\\mathbf{\\hat{p}}_i\\mathbf{v}_i\\mathbf{\\hat{v}}_i \\\\\n",
    "    \\frac{d\\mathbf{\\hat{v}}_i}{dt} &= -\\hat{\\kappa}\\sum\\limits_{j=1}^{N}\\mathcal{L}_{ij}\\mathbf{\\hat{v}}_j - \\hat{b}_1 \\mathbf{\\hat{v}}_i + b_{12}\\mathbf{v}_i\\mathbf{\\hat{v}}_i + b_3\\mathbf{\\hat{p}}_i\\mathbf{v}_i\\mathbf{\\hat{v}}_i\n",
    "\\end{align}"
   ]
  },
  {
   "cell_type": "markdown",
   "metadata": {
    "slideshow": {
     "slide_type": "subslide"
    }
   },
   "source": [
    "<img align=\"top\" width=\"700\" height=\"400\" src=\"goriely_fkpp-hxd.png\">"
   ]
  },
  {
   "cell_type": "markdown",
   "metadata": {
    "slideshow": {
     "slide_type": "subslide"
    }
   },
   "source": [
    "### Data Analysis and Representation"
   ]
  },
  {
   "cell_type": "markdown",
   "metadata": {
    "slideshow": {
     "slide_type": "fragment"
    }
   },
   "source": [
    "I conducted a pilot analysis on ADNI subjects who had structural MRI, A$\\beta$ and $\\tau$P PET. "
   ]
  },
  {
   "cell_type": "markdown",
   "metadata": {
    "slideshow": {
     "slide_type": "fragment"
    }
   },
   "source": [
    "Using a standard data processing pipeline in SPM, I analysed the sMRI and PET data for the four groups: young cognitively normal (sMRI only), old cognitively normal, late MCI, early AD. "
   ]
  },
  {
   "cell_type": "markdown",
   "metadata": {
    "slideshow": {
     "slide_type": "subslide"
    }
   },
   "source": [
    "##### Voxel Based Morphometry of sMRI\n",
    "<img align=\"top\" width=\"700\" height=\"400\" src=\"spm_atrophy.png\">"
   ]
  },
  {
   "cell_type": "markdown",
   "metadata": {
    "slideshow": {
     "slide_type": "subslide"
    }
   },
   "source": [
    "##### Atrophy and Diffusion Maps on the Connectome\n",
    "<img align=\"top\" width=\"700\" height=\"400\" src=\"connectome_maps.png\">"
   ]
  },
  {
   "cell_type": "markdown",
   "metadata": {
    "slideshow": {
     "slide_type": "slide"
    }
   },
   "source": [
    "# Rotation 2"
   ]
  },
  {
   "cell_type": "markdown",
   "metadata": {
    "slideshow": {
     "slide_type": "fragment"
    }
   },
   "source": [
    "Now that we have models and data, we need a method to bring them together. Where as previous studies have opted for correlative analysis, we aim to fit a full generative model of the data and model within a Bayesian framework."
   ]
  },
  {
   "cell_type": "markdown",
   "metadata": {
    "slideshow": {
     "slide_type": "fragment"
    }
   },
   "source": [
    "This will allow us to obtain data-derived parameter estimates and gain insight into model uncertainty and identifiability."
   ]
  },
  {
   "cell_type": "markdown",
   "metadata": {
    "slideshow": {
     "slide_type": "fragment"
    }
   },
   "source": [
    "We do this using the Bayes-Price-Laplace rule:"
   ]
  },
  {
   "cell_type": "markdown",
   "metadata": {
    "slideshow": {
     "slide_type": "subslide"
    }
   },
   "source": [
    "### Bayes-Price-Laplace Rule\n",
    "\n",
    "$$ \\underbrace{p(\\mathbf{z} \\mid \\mathbf{x})}_{posterior} = \\frac{\\overbrace{p(\\mathbf{x} \\mid \\mathbf{z})}^{likelihood}\\overbrace{p(\\mathbf{z})}^{prior}}{\\underbrace{p(\\mathbf{x})}_{evidence}} $$"
   ]
  },
  {
   "cell_type": "markdown",
   "metadata": {},
   "source": [
    "- Likelihood: Probability that a particular set of parameter values generate the observations    \n",
    "- Prior: Probability representing our initial beliefs about the parameter values.\n",
    "- Evidence: Normalising factor; probability of observing our data (given our model). Otherwise known as the marginal likelihood.\n",
    "- Posterior: Probability that some data are _caused_ by some set of parameters.\n"
   ]
  },
  {
   "cell_type": "markdown",
   "metadata": {
    "slideshow": {
     "slide_type": "subslide"
    }
   },
   "source": [
    "<img align=\"left\" width=\"400\" height=\"700\" src=\"forward_results.png\">\n",
    "<img align=\"right\" width=\"400\" height=\"700\" src=\"inference_results.png\">\n",
    "\n"
   ]
  },
  {
   "cell_type": "markdown",
   "metadata": {
    "slideshow": {
     "slide_type": "slide"
    }
   },
   "source": [
    "# Intended Future Work\n",
    "\n",
    "The majority of work over the coming year will revolve around implementing the Bayesian inference machinary necessary to evaluate the mathematical models."
   ]
  },
  {
   "cell_type": "markdown",
   "metadata": {
    "slideshow": {
     "slide_type": "fragment"
    }
   },
   "source": [
    "At present, I am testing the robustness of the analytic variational Bayes implementation. However, there are various downsides to this, namely, that it requires many assumptions about the data. "
   ]
  },
  {
   "cell_type": "markdown",
   "metadata": {
    "slideshow": {
     "slide_type": "fragment"
    }
   },
   "source": [
    "After testing the analyical method, I plan to explore stochastic variational bayes using automatic differentiation and likelihood-free based methods. These place fewer constraints on the generative model and could offere greater robustness against sparse data."
   ]
  },
  {
   "cell_type": "markdown",
   "metadata": {
    "slideshow": {
     "slide_type": "fragment"
    }
   },
   "source": [
    "In addition, since we are looking to infer values are different levels of resolution, I hope to implement a multiscale/multigrid method of inference that uses a hyrbid of methods for efficient and accurate computation."
   ]
  },
  {
   "cell_type": "markdown",
   "metadata": {
    "slideshow": {
     "slide_type": "fragment"
    }
   },
   "source": [
    "We plan to package this within an open source software framework that facilitate macroscale brain network modelling and inference. The goal within the next year is to publish a software paper and application paper of this software. "
   ]
  },
  {
   "cell_type": "markdown",
   "metadata": {
    "slideshow": {
     "slide_type": "slide"
    }
   },
   "source": [
    "### References: \n",
    "[1]: Raj A, LoCastro E, Kuceyeski A, Tosun D, Relkin N, Weiner M, (ADNI ADNI, et al. Network diffusion model of progression predicts longitudinal patterns of atrophy and metabolism in Alzheimer’s disease. Cell reports. 2015; 10(3):359–369. \n",
    "\n",
    "[2] Jacob W Vogel, Yasser Iturria-Medina, Olof T Strandberg, Ruben Smith, Elizabeth Levitis, Alan C Evans, and Oskar Hansson. Spread of patho- logical tau proteins through communicating neurons in human alzheimer’s disease. Nature Communications, 11(1):1–15, 2020.\n",
    "\n",
    "Walker,  L.C.,  Jucker,  M.:  Neurodegenerative  diseases:  expanding  the  prion  concept.Annual review of neuroscience38, 87–103 (2015\n",
    "\n",
    "H Matusda. Voxel-based Morphometry of Brain MRI in Normal Aging and Alzheimer’s Disease, Aging Dis. 2013 Feb; 4(1): 29–37\n",
    "\n",
    "Fornari S, Schäfer A, Jucker M, Goriely A, Kuhl E. Prion-like spreading of Alzheimer’s disease within the brain’s connectome. Journal of the Royal Society Interface. 2019; 16(159):20190356"
   ]
  }
 ],
 "metadata": {
  "celltoolbar": "Slideshow",
  "kernelspec": {
   "display_name": "Python 3",
   "language": "python",
   "name": "python3"
  },
  "language_info": {
   "codemirror_mode": {
    "name": "ipython",
    "version": 3
   },
   "file_extension": ".py",
   "mimetype": "text/x-python",
   "name": "python",
   "nbconvert_exporter": "python",
   "pygments_lexer": "ipython3",
   "version": "3.7.3"
  }
 },
 "nbformat": 4,
 "nbformat_minor": 4
}
